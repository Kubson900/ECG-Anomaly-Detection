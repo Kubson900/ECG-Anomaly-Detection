{
 "cells": [
  {
   "cell_type": "markdown",
   "source": [
    "# Model and configuration selection"
   ],
   "metadata": {
    "collapsed": false
   }
  },
  {
   "cell_type": "code",
   "execution_count": null,
   "outputs": [],
   "source": [
    "from networks.cnn_v2 import CNNv2\n",
    "\n",
    "sampling_rate = 100\n",
    "dataset_path = \"ecg_dataset/\"\n",
    "number_of_classes = 5\n",
    "\n",
    "model = CNNv2(num_classes=number_of_classes, sampling_rate=sampling_rate)"
   ],
   "metadata": {
    "collapsed": false
   }
  },
  {
   "cell_type": "markdown",
   "source": [
    "# Getting data ready for training"
   ],
   "metadata": {
    "collapsed": false
   }
  },
  {
   "cell_type": "code",
   "execution_count": 1,
   "metadata": {
    "collapsed": true
   },
   "outputs": [
    {
     "name": "stdout",
     "output_type": "stream",
     "text": [
      "Loaded labels\n",
      "Loaded ECG signals\n",
      "Scaled ECG signals\n",
      "Reshaped ECG signals to desired shape: (19237, 5000, 12, 1)\n",
      "Split training data into training|validation\n"
     ]
    }
   ],
   "source": [
    "from scripts.data_preparation import get_data_ready_for_training\n",
    "\n",
    "(\n",
    "    X_train,\n",
    "    X_val,\n",
    "    X_test,\n",
    "    y_train,\n",
    "    y_val,\n",
    "    y_test,\n",
    "    multi_label_binarizer,\n",
    ") = get_data_ready_for_training(\n",
    "    sampling_rate=model.sampling_rate(),\n",
    "    dataset_path=dataset_path,\n",
    "    need_3D_input=model.need_3D_input(),\n",
    ")"
   ]
  },
  {
   "cell_type": "markdown",
   "source": [
    "# Callbacks"
   ],
   "metadata": {
    "collapsed": false
   }
  },
  {
   "cell_type": "code",
   "execution_count": 3,
   "outputs": [],
   "source": [
    "from tensorflow._api.v2.v2.keras.callbacks import ReduceLROnPlateau, EarlyStopping\n",
    "\n",
    "callbacks = [\n",
    "    EarlyStopping(monitor=\"val_auc\", verbose=1, patience=10, restore_best_weights=True),\n",
    "    ReduceLROnPlateau(monitor=\"val_auc\", patience=5, verbose=1, min_lr=0.0001),\n",
    "]"
   ],
   "metadata": {
    "collapsed": false
   }
  },
  {
   "cell_type": "markdown",
   "source": [
    "# Model compilation"
   ],
   "metadata": {
    "collapsed": false
   }
  },
  {
   "cell_type": "code",
   "execution_count": 4,
   "outputs": [],
   "source": [
    "from tensorflow._api.v2.v2.keras.losses import BinaryCrossentropy\n",
    "from tensorflow._api.v2.v2.keras.optimizers import Adam\n",
    "from tensorflow._api.v2.v2.keras.metrics import BinaryAccuracy, Recall, Precision, AUC\n",
    "\n",
    "model.compile(\n",
    "    loss=BinaryCrossentropy(),\n",
    "    optimizer=Adam(),\n",
    "    metrics=[\n",
    "        BinaryAccuracy(),\n",
    "        Recall(),\n",
    "        Precision(),\n",
    "        AUC(multi_label=True),\n",
    "    ],\n",
    ")"
   ],
   "metadata": {
    "collapsed": false
   }
  },
  {
   "cell_type": "markdown",
   "source": [
    "# Model architecture"
   ],
   "metadata": {
    "collapsed": false
   }
  },
  {
   "cell_type": "code",
   "execution_count": 5,
   "outputs": [
    {
     "name": "stdout",
     "output_type": "stream",
     "text": [
      "Model: \"model\"\n",
      "_________________________________________________________________\n",
      " Layer (type)                Output Shape              Param #   \n",
      "=================================================================\n",
      " input_1 (InputLayer)        [(None, 5000, 12, 1)]     0         \n",
      "                                                                 \n",
      " cnn_block (CNNBlock)        (None, 5000, 12, 32)      448       \n",
      "                                                                 \n",
      " cnn_block_1 (CNNBlock)      (None, 5000, 12, 64)      18752     \n",
      "                                                                 \n",
      " cnn_block_2 (CNNBlock)      (None, 5000, 12, 128)     74368     \n",
      "                                                                 \n",
      " cnn_block_3 (CNNBlock)      (None, 5000, 12, 256)     296192    \n",
      "                                                                 \n",
      " cnn_block_4 (CNNBlock)      (None, 5000, 12, 512)     1182208   \n",
      "                                                                 \n",
      " global_average_pooling2d (G  (None, 512)              0         \n",
      " lobalAveragePooling2D)                                          \n",
      "                                                                 \n",
      " dense (Dense)               (None, 5)                 2565      \n",
      "                                                                 \n",
      "=================================================================\n",
      "Total params: 1,574,533\n",
      "Trainable params: 1,572,549\n",
      "Non-trainable params: 1,984\n",
      "_________________________________________________________________\n"
     ]
    }
   ],
   "source": [
    "try:\n",
    "    model.summary()\n",
    "except ValueError:\n",
    "    model.model_architecture().summary()"
   ],
   "metadata": {
    "collapsed": false
   }
  },
  {
   "cell_type": "markdown",
   "source": [
    "# Model training"
   ],
   "metadata": {
    "collapsed": false
   }
  },
  {
   "cell_type": "code",
   "execution_count": 6,
   "outputs": [
    {
     "name": "stdout",
     "output_type": "stream",
     "text": [
      "Epoch 1/100\n",
      "7214/7214 [==============================] - 836s 112ms/step - loss: 0.4667 - binary_accuracy: 0.7859 - recall: 0.3493 - precision: 0.6673 - auc: 0.7461 - val_loss: 0.4694 - val_binary_accuracy: 0.8014 - val_recall: 0.4280 - val_precision: 0.6912 - val_auc: 0.8127 - lr: 0.0010\n",
      "Epoch 2/100\n",
      "7214/7214 [==============================] - 786s 109ms/step - loss: 0.4055 - binary_accuracy: 0.8208 - recall: 0.5034 - precision: 0.7219 - auc: 0.8209 - val_loss: 0.4551 - val_binary_accuracy: 0.8062 - val_recall: 0.5758 - val_precision: 0.6424 - val_auc: 0.8451 - lr: 0.0010\n",
      "Epoch 3/100\n",
      "7214/7214 [==============================] - 793s 110ms/step - loss: 0.3825 - binary_accuracy: 0.8337 - recall: 0.5555 - precision: 0.7391 - auc: 0.8428 - val_loss: 0.4646 - val_binary_accuracy: 0.8266 - val_recall: 0.6506 - val_precision: 0.6725 - val_auc: 0.8592 - lr: 0.0010\n",
      "Epoch 4/100\n",
      "7214/7214 [==============================] - 800s 111ms/step - loss: 0.3674 - binary_accuracy: 0.8433 - recall: 0.5885 - precision: 0.7538 - auc: 0.8546 - val_loss: 0.3827 - val_binary_accuracy: 0.8485 - val_recall: 0.6632 - val_precision: 0.7300 - val_auc: 0.8773 - lr: 0.0010\n",
      "Epoch 5/100\n",
      "7214/7214 [==============================] - 788s 109ms/step - loss: 0.3513 - binary_accuracy: 0.8506 - recall: 0.6152 - precision: 0.7632 - auc: 0.8691 - val_loss: 0.4440 - val_binary_accuracy: 0.8203 - val_recall: 0.5640 - val_precision: 0.6890 - val_auc: 0.8793 - lr: 0.0010\n",
      "Epoch 6/100\n",
      "7214/7214 [==============================] - ETA: 0s - loss: 0.3434 - binary_accuracy: 0.8537 - recall: 0.6264 - precision: 0.7672 - auc: 0.8750\n",
      "Epoch 6: ReduceLROnPlateau reducing learning rate to 0.00010000000474974513.\n",
      "7214/7214 [==============================] - 795s 110ms/step - loss: 0.3434 - binary_accuracy: 0.8537 - recall: 0.6264 - precision: 0.7672 - auc: 0.8750 - val_loss: 0.4293 - val_binary_accuracy: 0.8329 - val_recall: 0.6042 - val_precision: 0.7105 - val_auc: 0.8780 - lr: 0.0010\n",
      "Epoch 7/100\n",
      "7214/7214 [==============================] - 778s 108ms/step - loss: 0.3207 - binary_accuracy: 0.8657 - recall: 0.6562 - precision: 0.7910 - auc: 0.8910 - val_loss: 0.3582 - val_binary_accuracy: 0.8595 - val_recall: 0.6661 - val_precision: 0.7638 - val_auc: 0.8946 - lr: 1.0000e-04\n",
      "Epoch 8/100\n",
      "7214/7214 [==============================] - 776s 108ms/step - loss: 0.3154 - binary_accuracy: 0.8678 - recall: 0.6612 - precision: 0.7949 - auc: 0.8947 - val_loss: 0.3597 - val_binary_accuracy: 0.8595 - val_recall: 0.6722 - val_precision: 0.7601 - val_auc: 0.8972 - lr: 1.0000e-04\n",
      "Epoch 9/100\n",
      "7214/7214 [==============================] - 782s 108ms/step - loss: 0.3135 - binary_accuracy: 0.8682 - recall: 0.6625 - precision: 0.7954 - auc: 0.8955 - val_loss: 0.3517 - val_binary_accuracy: 0.8622 - val_recall: 0.6739 - val_precision: 0.7680 - val_auc: 0.8981 - lr: 1.0000e-04\n",
      "Epoch 10/100\n",
      "7214/7214 [==============================] - 795s 110ms/step - loss: 0.3116 - binary_accuracy: 0.8706 - recall: 0.6683 - precision: 0.8002 - auc: 0.8970 - val_loss: 0.3483 - val_binary_accuracy: 0.8625 - val_recall: 0.6742 - val_precision: 0.7691 - val_auc: 0.8988 - lr: 1.0000e-04\n",
      "Epoch 11/100\n",
      "7214/7214 [==============================] - ETA: 0s - loss: 0.3090 - binary_accuracy: 0.8722 - recall: 0.6721 - precision: 0.8035 - auc: 0.8994\n",
      "Epoch 11: ReduceLROnPlateau reducing learning rate to 1.0000000474974514e-05.\n",
      "7214/7214 [==============================] - 792s 110ms/step - loss: 0.3090 - binary_accuracy: 0.8722 - recall: 0.6721 - precision: 0.8035 - auc: 0.8994 - val_loss: 0.3508 - val_binary_accuracy: 0.8669 - val_recall: 0.7027 - val_precision: 0.7663 - val_auc: 0.9017 - lr: 1.0000e-04\n",
      "Epoch 12/100\n",
      "7214/7214 [==============================] - 795s 110ms/step - loss: 0.3074 - binary_accuracy: 0.8715 - recall: 0.6734 - precision: 0.8001 - auc: 0.9000 - val_loss: 0.3480 - val_binary_accuracy: 0.8653 - val_recall: 0.6915 - val_precision: 0.7679 - val_auc: 0.9010 - lr: 1.0000e-05\n",
      "Epoch 13/100\n",
      "7214/7214 [==============================] - 791s 110ms/step - loss: 0.3071 - binary_accuracy: 0.8723 - recall: 0.6732 - precision: 0.8029 - auc: 0.9003 - val_loss: 0.3464 - val_binary_accuracy: 0.8638 - val_recall: 0.6739 - val_precision: 0.7735 - val_auc: 0.9006 - lr: 1.0000e-05\n",
      "Epoch 14/100\n",
      "7214/7214 [==============================] - 798s 111ms/step - loss: 0.3062 - binary_accuracy: 0.8726 - recall: 0.6735 - precision: 0.8038 - auc: 0.9018 - val_loss: 0.3521 - val_binary_accuracy: 0.8656 - val_recall: 0.6968 - val_precision: 0.7656 - val_auc: 0.9018 - lr: 1.0000e-05\n",
      "Epoch 15/100\n",
      "7214/7214 [==============================] - 798s 111ms/step - loss: 0.3067 - binary_accuracy: 0.8722 - recall: 0.6741 - precision: 0.8020 - auc: 0.9011 - val_loss: 0.3504 - val_binary_accuracy: 0.8630 - val_recall: 0.6809 - val_precision: 0.7667 - val_auc: 0.9011 - lr: 1.0000e-05\n",
      "Epoch 16/100\n",
      "7214/7214 [==============================] - ETA: 0s - loss: 0.3051 - binary_accuracy: 0.8724 - recall: 0.6739 - precision: 0.8027 - auc: 0.9020\n",
      "Epoch 16: ReduceLROnPlateau reducing learning rate to 1.0000000656873453e-06.\n",
      "7214/7214 [==============================] - 880s 122ms/step - loss: 0.3051 - binary_accuracy: 0.8724 - recall: 0.6739 - precision: 0.8027 - auc: 0.9020 - val_loss: 0.3495 - val_binary_accuracy: 0.8619 - val_recall: 0.6731 - val_precision: 0.7675 - val_auc: 0.8999 - lr: 1.0000e-05\n",
      "Epoch 17/100\n",
      "7214/7214 [==============================] - 982s 136ms/step - loss: 0.3065 - binary_accuracy: 0.8733 - recall: 0.6737 - precision: 0.8062 - auc: 0.9010 - val_loss: 0.3505 - val_binary_accuracy: 0.8652 - val_recall: 0.6931 - val_precision: 0.7666 - val_auc: 0.9016 - lr: 1.0000e-06\n",
      "Epoch 18/100\n",
      "7214/7214 [==============================] - 972s 135ms/step - loss: 0.3055 - binary_accuracy: 0.8736 - recall: 0.6761 - precision: 0.8055 - auc: 0.9018 - val_loss: 0.3485 - val_binary_accuracy: 0.8653 - val_recall: 0.6900 - val_precision: 0.7686 - val_auc: 0.9014 - lr: 1.0000e-06\n",
      "Epoch 19/100\n",
      "7214/7214 [==============================] - 996s 138ms/step - loss: 0.3054 - binary_accuracy: 0.8727 - recall: 0.6715 - precision: 0.8058 - auc: 0.9016 - val_loss: 0.3512 - val_binary_accuracy: 0.8647 - val_recall: 0.6907 - val_precision: 0.7664 - val_auc: 0.9012 - lr: 1.0000e-06\n",
      "Epoch 20/100\n",
      "7214/7214 [==============================] - 822s 114ms/step - loss: 0.3056 - binary_accuracy: 0.8733 - recall: 0.6756 - precision: 0.8050 - auc: 0.9017 - val_loss: 0.3561 - val_binary_accuracy: 0.8605 - val_recall: 0.6591 - val_precision: 0.7715 - val_auc: 0.8981 - lr: 1.0000e-06\n",
      "Epoch 21/100\n",
      "7214/7214 [==============================] - ETA: 0s - loss: 0.3057 - binary_accuracy: 0.8734 - recall: 0.6747 - precision: 0.8058 - auc: 0.9011\n",
      "Epoch 21: ReduceLROnPlateau reducing learning rate to 1.0000001111620805e-07.\n",
      "7214/7214 [==============================] - 794s 110ms/step - loss: 0.3057 - binary_accuracy: 0.8734 - recall: 0.6747 - precision: 0.8058 - auc: 0.9011 - val_loss: 0.3492 - val_binary_accuracy: 0.8627 - val_recall: 0.6782 - val_precision: 0.7671 - val_auc: 0.8995 - lr: 1.0000e-06\n",
      "Epoch 22/100\n",
      "7214/7214 [==============================] - 786s 109ms/step - loss: 0.3066 - binary_accuracy: 0.8732 - recall: 0.6747 - precision: 0.8054 - auc: 0.9011 - val_loss: 0.3486 - val_binary_accuracy: 0.8642 - val_recall: 0.6854 - val_precision: 0.7679 - val_auc: 0.9008 - lr: 1.0000e-07\n",
      "Epoch 23/100\n",
      "7214/7214 [==============================] - 786s 109ms/step - loss: 0.3058 - binary_accuracy: 0.8724 - recall: 0.6729 - precision: 0.8035 - auc: 0.9015 - val_loss: 0.3485 - val_binary_accuracy: 0.8635 - val_recall: 0.6776 - val_precision: 0.7701 - val_auc: 0.9006 - lr: 1.0000e-07\n",
      "Epoch 24/100\n",
      "7214/7214 [==============================] - ETA: 0s - loss: 0.3043 - binary_accuracy: 0.8734 - recall: 0.6764 - precision: 0.8047 - auc: 0.9030Restoring model weights from the end of the best epoch: 14.\n",
      "7214/7214 [==============================] - 789s 109ms/step - loss: 0.3043 - binary_accuracy: 0.8734 - recall: 0.6764 - precision: 0.8047 - auc: 0.9030 - val_loss: 0.3504 - val_binary_accuracy: 0.8649 - val_recall: 0.6929 - val_precision: 0.7658 - val_auc: 0.9012 - lr: 1.0000e-07\n",
      "Epoch 24: early stopping\n"
     ]
    }
   ],
   "source": [
    "history = model.fit(\n",
    "    x=X_train,\n",
    "    y=y_train,\n",
    "    batch_size=16,\n",
    "    epochs=100,\n",
    "    callbacks=callbacks,\n",
    "    validation_data=(X_val, y_val),\n",
    ")"
   ],
   "metadata": {
    "collapsed": false
   }
  },
  {
   "cell_type": "markdown",
   "source": [
    "# Saving model"
   ],
   "metadata": {
    "collapsed": false
   }
  },
  {
   "cell_type": "code",
   "execution_count": 7,
   "outputs": [
    {
     "name": "stderr",
     "output_type": "stream",
     "text": [
      "WARNING:absl:Found untraced functions such as conv2d_layer_call_fn, conv2d_layer_call_and_return_conditional_losses, _jit_compiled_convolution_op, re_lu_layer_call_fn, re_lu_layer_call_and_return_conditional_losses while saving (showing 5 of 35). These functions will not be directly callable after loading.\n"
     ]
    },
    {
     "name": "stdout",
     "output_type": "stream",
     "text": [
      "INFO:tensorflow:Assets written to: saved_models/cnn_v2_500\\assets\n"
     ]
    },
    {
     "name": "stderr",
     "output_type": "stream",
     "text": [
      "INFO:tensorflow:Assets written to: saved_models/cnn_v2_500\\assets\n"
     ]
    }
   ],
   "source": [
    "model.save(filepath=f\"saved_models/{model.model_name()}\", save_format=\"tf\")"
   ],
   "metadata": {
    "collapsed": false
   }
  },
  {
   "cell_type": "markdown",
   "source": [
    "# Model evaluation"
   ],
   "metadata": {
    "collapsed": false
   }
  },
  {
   "cell_type": "code",
   "execution_count": 10,
   "outputs": [
    {
     "name": "stdout",
     "output_type": "stream",
     "text": [
      "1080/1080 [==============================] - 34s 31ms/step - loss: 0.3531 - binary_accuracy: 0.8511 - recall: 0.6564 - precision: 0.7392 - auc: 0.8850\n"
     ]
    }
   ],
   "source": [
    "import numpy as np\n",
    "import pandas as pd\n",
    "import os\n",
    "\n",
    "file_name = \"model_evaluation.csv\"\n",
    "output_directory = f\"saved_data/{model.model_name()}/\"\n",
    "if not os.path.exists(output_directory):\n",
    "    os.makedirs(output_directory, exist_ok=True)\n",
    "\n",
    "model_evaluation = np.array(model.evaluate(X_test, y_test))\n",
    "model_evaluation = np.round(model_evaluation, 3)\n",
    "model_evaluation_df = pd.DataFrame(\n",
    "    data=model_evaluation, index=model.metrics_names\n",
    ").transpose()\n",
    "model_evaluation_df.to_csv(os.path.join(output_directory, file_name))"
   ],
   "metadata": {
    "collapsed": false
   }
  },
  {
   "cell_type": "code",
   "execution_count": 12,
   "outputs": [
    {
     "name": "stdout",
     "output_type": "stream",
     "text": [
      "1080/1080 [==============================] - 32s 29ms/step\n"
     ]
    }
   ],
   "source": [
    "import numpy as np\n",
    "\n",
    "threshold = 0.55\n",
    "y_pred = (model.predict(X_test) > threshold) * 1"
   ],
   "metadata": {
    "collapsed": false
   }
  },
  {
   "cell_type": "code",
   "execution_count": 13,
   "outputs": [
    {
     "data": {
      "text/plain": "0.5178323297823066"
     },
     "execution_count": 13,
     "metadata": {},
     "output_type": "execute_result"
    }
   ],
   "source": [
    "from scripts.data_evaluation import compute_accuracy\n",
    "\n",
    "compute_accuracy(y_test, y_pred)"
   ],
   "metadata": {
    "collapsed": false
   }
  },
  {
   "cell_type": "code",
   "execution_count": 14,
   "outputs": [
    {
     "data": {
      "text/plain": "<Figure size 1500x500 with 6 Axes>",
      "image/png": "[encoded data removed]"
     },
     "metadata": {},
     "output_type": "display_data"
    }
   ],
   "source": [
    "from scripts.data_evaluation import plot_confusion_matrix\n",
    "import os\n",
    "\n",
    "file_name = \"confusion_matrix.png\"\n",
    "output_directory = f\"saved_images/{model.model_name()}/\"\n",
    "if not os.path.exists(output_directory):\n",
    "    os.makedirs(output_directory, exist_ok=True)\n",
    "\n",
    "plot_confusion_matrix(\n",
    "    y_test,\n",
    "    y_pred,\n",
    "    multi_label_binarizer.classes_,\n",
    "    file_path=os.path.join(output_directory, file_name),\n",
    ")"
   ],
   "metadata": {
    "collapsed": false
   }
  },
  {
   "cell_type": "code",
   "execution_count": 15,
   "outputs": [
    {
     "name": "stdout",
     "output_type": "stream",
     "text": [
      "              precision    recall  f1-score   support\n",
      "\n",
      "          CD       0.77      0.50      0.61       497\n",
      "         HYP       0.57      0.31      0.40       262\n",
      "          MI       0.78      0.51      0.62       551\n",
      "        NORM       0.78      0.87      0.82       963\n",
      "        STTC       0.73      0.55      0.63       521\n",
      "\n",
      "   micro avg       0.76      0.62      0.68      2794\n",
      "   macro avg       0.73      0.55      0.62      2794\n",
      "weighted avg       0.75      0.62      0.67      2794\n",
      " samples avg       0.66      0.65      0.64      2794\n",
      "\n"
     ]
    },
    {
     "name": "stderr",
     "output_type": "stream",
     "text": [
      "C:\\Virtual Environments\\ECG Anomaly Detection\\lib\\site-packages\\sklearn\\metrics\\_classification.py:1344: UndefinedMetricWarning: Precision and F-score are ill-defined and being set to 0.0 in samples with no predicted labels. Use `zero_division` parameter to control this behavior.\n",
      "  _warn_prf(average, modifier, msg_start, len(result))\n"
     ]
    }
   ],
   "source": [
    "from sklearn.metrics import classification_report\n",
    "import pandas as pd\n",
    "\n",
    "print(\n",
    "    classification_report(\n",
    "        y_test, y_pred, target_names=list(multi_label_binarizer.classes_)\n",
    "    )\n",
    ")"
   ],
   "metadata": {
    "collapsed": false
   }
  },
  {
   "cell_type": "code",
   "execution_count": 16,
   "outputs": [
    {
     "name": "stderr",
     "output_type": "stream",
     "text": [
      "C:\\Virtual Environments\\ECG Anomaly Detection\\lib\\site-packages\\sklearn\\metrics\\_classification.py:1344: UndefinedMetricWarning: Precision and F-score are ill-defined and being set to 0.0 in samples with no predicted labels. Use `zero_division` parameter to control this behavior.\n",
      "  _warn_prf(average, modifier, msg_start, len(result))\n"
     ]
    }
   ],
   "source": [
    "report = classification_report(\n",
    "    y_test, y_pred, target_names=list(multi_label_binarizer.classes_), output_dict=True\n",
    ")\n",
    "df = pd.DataFrame(report).transpose()\n",
    "df.to_csv(f\"saved_data/{model.model_name()}/classification_report.csv\")"
   ],
   "metadata": {
    "collapsed": false
   }
  },
  {
   "cell_type": "markdown",
   "source": [
    "# Show predictions on sample patient"
   ],
   "metadata": {
    "collapsed": false
   }
  },
  {
   "cell_type": "code",
   "execution_count": 17,
   "outputs": [
    {
     "name": "stdout",
     "output_type": "stream",
     "text": [
      "1/1 [==============================] - 0s 12ms/step\n",
      "NORM: 1\n",
      "STTC: 0\n",
      "MI: 0\n",
      "HYP: 0\n",
      "CD: 0\n"
     ]
    }
   ],
   "source": [
    "class_names = np.array(multi_label_binarizer.classes_)\n",
    "\n",
    "patient_ecg = np.expand_dims(X_test[0], axis=0)\n",
    "patient_ecg_prob = (model.predict(patient_ecg) > threshold) * 1\n",
    "sorted_categories = np.argsort(patient_ecg_prob[0])[:-6:-1]\n",
    "\n",
    "for i in range(5):\n",
    "    print(\n",
    "        f\"{class_names[sorted_categories[i]]}: {patient_ecg_prob[0][sorted_categories[i]]}\"\n",
    "    )"
   ],
   "metadata": {
    "collapsed": false
   }
  },
  {
   "cell_type": "code",
   "execution_count": 100,
   "outputs": [
    {
     "name": "stdout",
     "output_type": "stream",
     "text": [
      "1/1 [==============================] - 0s 12ms/step\n",
      "1/1 [==============================] - 0s 11ms/step\n",
      "1/1 [==============================] - 0s 12ms/step\n",
      "1/1 [==============================] - 0s 11ms/step\n",
      "1/1 [==============================] - 0s 12ms/step\n",
      "1/1 [==============================] - 0s 13ms/step\n",
      "1/1 [==============================] - 0s 11ms/step\n",
      "1/1 [==============================] - 0s 11ms/step\n",
      "1/1 [==============================] - 0s 12ms/step\n",
      "1/1 [==============================] - 0s 12ms/step\n",
      "1/1 [==============================] - 0s 13ms/step\n",
      "1/1 [==============================] - 0s 11ms/step\n",
      "1/1 [==============================] - 0s 11ms/step\n",
      "1/1 [==============================] - 0s 12ms/step\n",
      "1/1 [==============================] - 0s 14ms/step\n"
     ]
    }
   ],
   "source": [
    "sample_patients_predictions_df = pd.DataFrame()\n",
    "\n",
    "for index in range(15):\n",
    "    patient_ecg = np.expand_dims(X_test[index], axis=0)\n",
    "    patient_ecg_prob = (model.predict(patient_ecg) > threshold) * 1\n",
    "    sample_patients_predictions_df = pd.concat(\n",
    "        [\n",
    "            sample_patients_predictions_df,\n",
    "            pd.DataFrame(\n",
    "                data={\n",
    "                    \"Predicted\": np.squeeze(patient_ecg_prob),\n",
    "                    \"True\": y_test[index],\n",
    "                    \"---------\": np.array([\"-\" for x in range(5)]),\n",
    "                },\n",
    "                index=class_names,\n",
    "            ).transpose(),\n",
    "        ]\n",
    "    )"
   ],
   "metadata": {
    "collapsed": false
   }
  },
  {
   "cell_type": "code",
   "execution_count": 101,
   "outputs": [
    {
     "data": {
      "text/plain": "          CD HYP MI NORM STTC\nPredicted  0   0  0    1    0\nTrue       0   0  0    1    0\n---------  -   -  -    -    -\nPredicted  0   0  0    1    0\nTrue       0   0  0    1    0\n---------  -   -  -    -    -\nPredicted  0   0  0    1    0\nTrue       0   0  0    1    0\n---------  -   -  -    -    -\nPredicted  0   0  0    1    0\nTrue       0   0  0    1    0\n---------  -   -  -    -    -\nPredicted  0   0  0    1    0\nTrue       0   0  0    1    0\n---------  -   -  -    -    -\nPredicted  0   0  0    1    0\nTrue       0   0  1    0    0\n---------  -   -  -    -    -\nPredicted  0   0  0    1    0\nTrue       1   0  0    0    0\n---------  -   -  -    -    -\nPredicted  0   0  0    1    0\nTrue       0   0  0    1    0\n---------  -   -  -    -    -\nPredicted  0   0  0    1    0\nTrue       0   0  0    1    0\n---------  -   -  -    -    -\nPredicted  0   0  0    1    0\nTrue       0   0  0    1    0\n---------  -   -  -    -    -\nPredicted  0   0  0    1    0\nTrue       0   0  0    1    0\n---------  -   -  -    -    -\nPredicted  0   0  0    1    0\nTrue       0   0  0    1    0\n---------  -   -  -    -    -\nPredicted  0   0  0    1    0\nTrue       0   0  0    1    0\n---------  -   -  -    -    -\nPredicted  0   0  0    1    0\nTrue       0   0  0    1    0\n---------  -   -  -    -    -\nPredicted  0   0  0    0    1\nTrue       0   0  0    0    1\n---------  -   -  -    -    -",
      "text/html": "<div>\n<style scoped>\n    .dataframe tbody tr th:only-of-type {\n        vertical-align: middle;\n    }\n\n    .dataframe tbody tr th {\n        vertical-align: top;\n    }\n\n    .dataframe thead th {\n        text-align: right;\n    }\n</style>\n<table border=\"1\" class=\"dataframe\">\n  <thead>\n    <tr style=\"text-align: right;\">\n      <th></th>\n      <th>CD</th>\n      <th>HYP</th>\n      <th>MI</th>\n      <th>NORM</th>\n      <th>STTC</th>\n    </tr>\n  </thead>\n  <tbody>\n    <tr>\n      <th>Predicted</th>\n      <td>0</td>\n      <td>0</td>\n      <td>0</td>\n      <td>1</td>\n      <td>0</td>\n    </tr>\n    <tr>\n      <th>True</th>\n      <td>0</td>\n      <td>0</td>\n      <td>0</td>\n      <td>1</td>\n      <td>0</td>\n    </tr>\n    <tr>\n      <th>---------</th>\n      <td>-</td>\n      <td>-</td>\n      <td>-</td>\n      <td>-</td>\n      <td>-</td>\n    </tr>\n    <tr>\n      <th>Predicted</th>\n      <td>0</td>\n      <td>0</td>\n      <td>0</td>\n      <td>1</td>\n      <td>0</td>\n    </tr>\n    <tr>\n      <th>True</th>\n      <td>0</td>\n      <td>0</td>\n      <td>0</td>\n      <td>1</td>\n      <td>0</td>\n    </tr>\n    <tr>\n      <th>---------</th>\n      <td>-</td>\n      <td>-</td>\n      <td>-</td>\n      <td>-</td>\n      <td>-</td>\n    </tr>\n    <tr>\n      <th>Predicted</th>\n      <td>0</td>\n      <td>0</td>\n      <td>0</td>\n      <td>1</td>\n      <td>0</td>\n    </tr>\n    <tr>\n      <th>True</th>\n      <td>0</td>\n      <td>0</td>\n      <td>0</td>\n      <td>1</td>\n      <td>0</td>\n    </tr>\n    <tr>\n      <th>---------</th>\n      <td>-</td>\n      <td>-</td>\n      <td>-</td>\n      <td>-</td>\n      <td>-</td>\n    </tr>\n    <tr>\n      <th>Predicted</th>\n      <td>0</td>\n      <td>0</td>\n      <td>0</td>\n      <td>1</td>\n      <td>0</td>\n    </tr>\n    <tr>\n      <th>True</th>\n      <td>0</td>\n      <td>0</td>\n      <td>0</td>\n      <td>1</td>\n      <td>0</td>\n    </tr>\n    <tr>\n      <th>---------</th>\n      <td>-</td>\n      <td>-</td>\n      <td>-</td>\n      <td>-</td>\n      <td>-</td>\n    </tr>\n    <tr>\n      <th>Predicted</th>\n      <td>0</td>\n      <td>0</td>\n      <td>0</td>\n      <td>1</td>\n      <td>0</td>\n    </tr>\n    <tr>\n      <th>True</th>\n      <td>0</td>\n      <td>0</td>\n      <td>0</td>\n      <td>1</td>\n      <td>0</td>\n    </tr>\n    <tr>\n      <th>---------</th>\n      <td>-</td>\n      <td>-</td>\n      <td>-</td>\n      <td>-</td>\n      <td>-</td>\n    </tr>\n    <tr>\n      <th>Predicted</th>\n      <td>0</td>\n      <td>0</td>\n      <td>0</td>\n      <td>1</td>\n      <td>0</td>\n    </tr>\n    <tr>\n      <th>True</th>\n      <td>0</td>\n      <td>0</td>\n      <td>1</td>\n      <td>0</td>\n      <td>0</td>\n    </tr>\n    <tr>\n      <th>---------</th>\n      <td>-</td>\n      <td>-</td>\n      <td>-</td>\n      <td>-</td>\n      <td>-</td>\n    </tr>\n    <tr>\n      <th>Predicted</th>\n      <td>0</td>\n      <td>0</td>\n      <td>0</td>\n      <td>1</td>\n      <td>0</td>\n    </tr>\n    <tr>\n      <th>True</th>\n      <td>1</td>\n      <td>0</td>\n      <td>0</td>\n      <td>0</td>\n      <td>0</td>\n    </tr>\n    <tr>\n      <th>---------</th>\n      <td>-</td>\n      <td>-</td>\n      <td>-</td>\n      <td>-</td>\n      <td>-</td>\n    </tr>\n    <tr>\n      <th>Predicted</th>\n      <td>0</td>\n      <td>0</td>\n      <td>0</td>\n      <td>1</td>\n      <td>0</td>\n    </tr>\n    <tr>\n      <th>True</th>\n      <td>0</td>\n      <td>0</td>\n      <td>0</td>\n      <td>1</td>\n      <td>0</td>\n    </tr>\n    <tr>\n      <th>---------</th>\n      <td>-</td>\n      <td>-</td>\n      <td>-</td>\n      <td>-</td>\n      <td>-</td>\n    </tr>\n    <tr>\n      <th>Predicted</th>\n      <td>0</td>\n      <td>0</td>\n      <td>0</td>\n      <td>1</td>\n      <td>0</td>\n    </tr>\n    <tr>\n      <th>True</th>\n      <td>0</td>\n      <td>0</td>\n      <td>0</td>\n      <td>1</td>\n      <td>0</td>\n    </tr>\n    <tr>\n      <th>---------</th>\n      <td>-</td>\n      <td>-</td>\n      <td>-</td>\n      <td>-</td>\n      <td>-</td>\n    </tr>\n    <tr>\n      <th>Predicted</th>\n      <td>0</td>\n      <td>0</td>\n      <td>0</td>\n      <td>1</td>\n      <td>0</td>\n    </tr>\n    <tr>\n      <th>True</th>\n      <td>0</td>\n      <td>0</td>\n      <td>0</td>\n      <td>1</td>\n      <td>0</td>\n    </tr>\n    <tr>\n      <th>---------</th>\n      <td>-</td>\n      <td>-</td>\n      <td>-</td>\n      <td>-</td>\n      <td>-</td>\n    </tr>\n    <tr>\n      <th>Predicted</th>\n      <td>0</td>\n      <td>0</td>\n      <td>0</td>\n      <td>1</td>\n      <td>0</td>\n    </tr>\n    <tr>\n      <th>True</th>\n      <td>0</td>\n      <td>0</td>\n      <td>0</td>\n      <td>1</td>\n      <td>0</td>\n    </tr>\n    <tr>\n      <th>---------</th>\n      <td>-</td>\n      <td>-</td>\n      <td>-</td>\n      <td>-</td>\n      <td>-</td>\n    </tr>\n    <tr>\n      <th>Predicted</th>\n      <td>0</td>\n      <td>0</td>\n      <td>0</td>\n      <td>1</td>\n      <td>0</td>\n    </tr>\n    <tr>\n      <th>True</th>\n      <td>0</td>\n      <td>0</td>\n      <td>0</td>\n      <td>1</td>\n      <td>0</td>\n    </tr>\n    <tr>\n      <th>---------</th>\n      <td>-</td>\n      <td>-</td>\n      <td>-</td>\n      <td>-</td>\n      <td>-</td>\n    </tr>\n    <tr>\n      <th>Predicted</th>\n      <td>0</td>\n      <td>0</td>\n      <td>0</td>\n      <td>1</td>\n      <td>0</td>\n    </tr>\n    <tr>\n      <th>True</th>\n      <td>0</td>\n      <td>0</td>\n      <td>0</td>\n      <td>1</td>\n      <td>0</td>\n    </tr>\n    <tr>\n      <th>---------</th>\n      <td>-</td>\n      <td>-</td>\n      <td>-</td>\n      <td>-</td>\n      <td>-</td>\n    </tr>\n    <tr>\n      <th>Predicted</th>\n      <td>0</td>\n      <td>0</td>\n      <td>0</td>\n      <td>1</td>\n      <td>0</td>\n    </tr>\n    <tr>\n      <th>True</th>\n      <td>0</td>\n      <td>0</td>\n      <td>0</td>\n      <td>1</td>\n      <td>0</td>\n    </tr>\n    <tr>\n      <th>---------</th>\n      <td>-</td>\n      <td>-</td>\n      <td>-</td>\n      <td>-</td>\n      <td>-</td>\n    </tr>\n    <tr>\n      <th>Predicted</th>\n      <td>0</td>\n      <td>0</td>\n      <td>0</td>\n      <td>0</td>\n      <td>1</td>\n    </tr>\n    <tr>\n      <th>True</th>\n      <td>0</td>\n      <td>0</td>\n      <td>0</td>\n      <td>0</td>\n      <td>1</td>\n    </tr>\n    <tr>\n      <th>---------</th>\n      <td>-</td>\n      <td>-</td>\n      <td>-</td>\n      <td>-</td>\n      <td>-</td>\n    </tr>\n  </tbody>\n</table>\n</div>"
     },
     "execution_count": 101,
     "metadata": {},
     "output_type": "execute_result"
    }
   ],
   "source": [
    "sample_patients_predictions_df"
   ],
   "metadata": {
    "collapsed": false
   }
  }
 ],
 "metadata": {
  "kernelspec": {
   "display_name": "Python 3",
   "language": "python",
   "name": "python3"
  },
  "language_info": {
   "codemirror_mode": {
    "name": "ipython",
    "version": 2
   },
   "file_extension": ".py",
   "mimetype": "text/x-python",
   "name": "python",
   "nbconvert_exporter": "python",
   "pygments_lexer": "ipython2",
   "version": "2.7.6"
  }
 },
 "nbformat": 4,
 "nbformat_minor": 0
}
