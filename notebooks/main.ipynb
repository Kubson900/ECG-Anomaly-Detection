{
 "cells": [
  {
   "cell_type": "markdown",
   "source": [
    "# Getting data ready for training"
   ],
   "metadata": {
    "collapsed": false
   }
  },
  {
   "cell_type": "code",
   "execution_count": null,
   "metadata": {
    "collapsed": true
   },
   "outputs": [],
   "source": [
    "from scripts.data_preparation import get_data_ready_for_training\n",
    "\n",
    "X_train, X_test, y_train, y_test, multi_label_binarizer = get_data_ready_for_training(\n",
    "    sampling_rate=100, dataset_path=\"../ecg_dataset\", need_3D_input=True\n",
    ")"
   ]
  },
  {
   "cell_type": "markdown",
   "source": [
    "# Splitting training into training|validation"
   ],
   "metadata": {
    "collapsed": false
   }
  },
  {
   "cell_type": "code",
   "execution_count": 1,
   "outputs": [],
   "source": [
    "from sklearn.model_selection import train_test_split\n",
    "\n",
    "X_train, X_val, y_train, y_val = train_test_split(X_train, y_train, test_size=0.25)"
   ],
   "metadata": {
    "collapsed": false
   }
  },
  {
   "cell_type": "markdown",
   "source": [
    "# Model selection"
   ],
   "metadata": {
    "collapsed": false
   }
  },
  {
   "cell_type": "code",
   "execution_count": null,
   "outputs": [],
   "source": [
    "# from networks.cnn_v2 import Cnn\n",
    "#\n",
    "# model = Cnn()\n",
    "\n",
    "from tensorflow import keras\n",
    "\n",
    "model = keras.models.Sequential(\n",
    "    [\n",
    "        keras.layers.Conv2D(\n",
    "            64, 7, activation=\"relu\", padding=\"same\", input_shape=[1000, 12, 1]\n",
    "        ),\n",
    "        keras.layers.MaxPooling2D(2),\n",
    "        keras.layers.Conv2D(128, 3, activation=\"relu\", padding=\"same\"),\n",
    "        keras.layers.Conv2D(128, 3, activation=\"relu\", padding=\"same\"),\n",
    "        keras.layers.MaxPooling2D(2),\n",
    "        keras.layers.Conv2D(256, 3, activation=\"relu\", padding=\"same\"),\n",
    "        keras.layers.Conv2D(256, 3, activation=\"relu\", padding=\"same\"),\n",
    "        keras.layers.MaxPooling2D(2),\n",
    "        keras.layers.Flatten(),\n",
    "        keras.layers.Dense(128, activation=\"relu\"),\n",
    "        keras.layers.Dropout(0.5),\n",
    "        keras.layers.Dense(64, activation=\"relu\"),\n",
    "        keras.layers.Dropout(0.5),\n",
    "        keras.layers.Dense(5, activation=\"sigmoid\"),\n",
    "    ]\n",
    ")\n"
   ],
   "metadata": {
    "collapsed": false
   }
  },
  {
   "cell_type": "markdown",
   "source": [
    "# Callbacks"
   ],
   "metadata": {
    "collapsed": false
   }
  },
  {
   "cell_type": "code",
   "execution_count": null,
   "outputs": [],
   "source": [
    "from keras.callbacks import ReduceLROnPlateau, EarlyStopping\n",
    "\n",
    "callbacks = [\n",
    "    EarlyStopping(monitor=\"val_AUC\", mode=\"max\", verbose=1, patience=10),\n",
    "    ReduceLROnPlateau(\n",
    "        monitor=\"val_AUC\",\n",
    "        factor=0.1,\n",
    "        patience=5,\n",
    "        verbose=1,\n",
    "        mode=\"max\",\n",
    "        min_delta=0.0001,\n",
    "        cooldown=0,\n",
    "        min_lr=0,\n",
    "    ),\n",
    "]"
   ],
   "metadata": {
    "collapsed": false
   }
  },
  {
   "cell_type": "markdown",
   "source": [
    "# Model compilation"
   ],
   "metadata": {
    "collapsed": false
   }
  },
  {
   "cell_type": "code",
   "execution_count": null,
   "outputs": [],
   "source": [
    "from keras.losses import BinaryCrossentropy\n",
    "from keras.optimizers import Adam\n",
    "from keras.metrics import BinaryAccuracy, Recall, Precision, AUC\n",
    "\n",
    "model.compile(\n",
    "    loss=BinaryCrossentropy(),\n",
    "    optimizer=Adam(learning_rate=0.001),\n",
    "    metrics=[\n",
    "        BinaryAccuracy(name=\"accuracy\", dtype=None, threshold=0.5),\n",
    "        Recall(name=\"Recall\"),\n",
    "        Precision(name=\"Precision\"),\n",
    "        AUC(\n",
    "            num_thresholds=200,\n",
    "            curve=\"ROC\",\n",
    "            summation_method=\"interpolation\",\n",
    "            name=\"AUC\",\n",
    "            dtype=None,\n",
    "            thresholds=None,\n",
    "            multi_label=True,\n",
    "            label_weights=None,\n",
    "        ),\n",
    "    ],\n",
    ")"
   ],
   "metadata": {
    "collapsed": false
   }
  },
  {
   "cell_type": "markdown",
   "source": [
    "# Model architecture"
   ],
   "metadata": {
    "collapsed": false
   }
  },
  {
   "cell_type": "code",
   "execution_count": null,
   "outputs": [],
   "source": [
    "# model.model().summary()\n",
    "model.summary()"
   ],
   "metadata": {
    "collapsed": false
   }
  },
  {
   "cell_type": "markdown",
   "source": [
    "# Model training"
   ],
   "metadata": {
    "collapsed": false
   }
  },
  {
   "cell_type": "code",
   "execution_count": null,
   "outputs": [],
   "source": [
    "history = model.fit(\n",
    "    X_train,\n",
    "    y_train,\n",
    "    epochs=100,\n",
    "    batch_size=8,\n",
    "    callbacks=callbacks,\n",
    "    validation_data=(X_val, y_val),\n",
    "    shuffle=True,\n",
    ")"
   ],
   "metadata": {
    "collapsed": false
   }
  },
  {
   "cell_type": "markdown",
   "source": [
    "# Saving model"
   ],
   "metadata": {
    "collapsed": false
   }
  },
  {
   "cell_type": "code",
   "execution_count": null,
   "outputs": [],
   "source": [
    "model.save(filepath=\"../saved_models/cnn_v3\", save_format=\"tf\")"
   ],
   "metadata": {
    "collapsed": false
   }
  },
  {
   "cell_type": "markdown",
   "source": [
    "# Model evaluation"
   ],
   "metadata": {
    "collapsed": false
   }
  },
  {
   "cell_type": "code",
   "execution_count": null,
   "outputs": [],
   "source": [
    "model.evaluate(X_test, y_test)"
   ],
   "metadata": {
    "collapsed": false
   }
  },
  {
   "cell_type": "code",
   "execution_count": 1,
   "outputs": [],
   "source": [
    "import numpy as np\n",
    "\n",
    "threshold = 0.5\n",
    "y_pred = (model.predict(X_test) > threshold) * 1"
   ],
   "metadata": {
    "collapsed": false
   }
  },
  {
   "cell_type": "code",
   "execution_count": null,
   "outputs": [],
   "source": [
    "from scripts.data_evaluation import compute_accuracy\n",
    "\n",
    "compute_accuracy(y_test, y_pred)"
   ],
   "metadata": {
    "collapsed": false
   }
  },
  {
   "cell_type": "code",
   "execution_count": 1,
   "outputs": [],
   "source": [
    "from scripts.data_evaluation import plot_confusion_matrix\n",
    "\n",
    "plot_confusion_matrix(y_test, y_pred, multi_label_binarizer.classes_)"
   ],
   "metadata": {
    "collapsed": false
   }
  },
  {
   "cell_type": "code",
   "execution_count": null,
   "outputs": [],
   "source": [
    "from sklearn.metrics import classification_report\n",
    "\n",
    "print(classification_report(y_test, y_pred))"
   ],
   "metadata": {
    "collapsed": false
   }
  },
  {
   "cell_type": "markdown",
   "source": [
    "# Show predictions on sample patient"
   ],
   "metadata": {
    "collapsed": false
   }
  },
  {
   "cell_type": "code",
   "execution_count": null,
   "outputs": [],
   "source": [
    "class_names = np.array(multi_label_binarizer.classes_)\n",
    "\n",
    "patient_ecg = np.expand_dims(X_test[0], axis=0)\n",
    "patient_ecg_prob = (model.predict(patient_ecg) > 0.5) * 1\n",
    "sorted_categories = np.argsort(patient_ecg_prob[0])[:-6:-1]\n",
    "\n",
    "for i in range(5):\n",
    "    print(\n",
    "        f\"{class_names[sorted_categories[i]]}: {patient_ecg_prob[0][sorted_categories[i]]}\"\n",
    "    )"
   ],
   "metadata": {
    "collapsed": false
   }
  },
  {
   "cell_type": "code",
   "execution_count": null,
   "outputs": [],
   "source": [
    "y_test[0]"
   ],
   "metadata": {
    "collapsed": false
   }
  },
  {
   "cell_type": "code",
   "execution_count": null,
   "outputs": [],
   "source": [
    "class_names"
   ],
   "metadata": {
    "collapsed": false
   }
  }
 ],
 "metadata": {
  "kernelspec": {
   "display_name": "Python 3",
   "language": "python",
   "name": "python3"
  },
  "language_info": {
   "codemirror_mode": {
    "name": "ipython",
    "version": 2
   },
   "file_extension": ".py",
   "mimetype": "text/x-python",
   "name": "python",
   "nbconvert_exporter": "python",
   "pygments_lexer": "ipython2",
   "version": "2.7.6"
  }
 },
 "nbformat": 4,
 "nbformat_minor": 0
}
